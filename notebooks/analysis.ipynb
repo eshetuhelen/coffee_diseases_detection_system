{
 "cells": [
  {
   "cell_type": "markdown",
   "id": "98af2e1d",
   "metadata": {},
   "source": [
    "Import Libraries\n"
   ]
  },
  {
   "cell_type": "code",
   "execution_count": 3,
   "id": "413a76f7",
   "metadata": {},
   "outputs": [],
   "source": [
    "from PIL import Image\n",
    "from setuptools import setup\n",
    "import os \n",
    "import io\n",
    "import psycopg2\n",
    "import numpy as np\n",
    "import matplotlib.pyplot as plt\n",
    "import pandas as pd\n",
    "import tensorflow as tf"
   ]
  },
  {
   "cell_type": "code",
   "execution_count": 4,
   "id": "a91439e1",
   "metadata": {},
   "outputs": [],
   "source": [
    "# Set up the connection to PostgreSQL\n",
    "conn = psycopg2.connect(\n",
    "    dbname=\"postgres\", \n",
    "    user=\"postgres\", \n",
    "    password=\"abcd\", \n",
    "    host=\"localhost\", \n",
    "    port=\"5432\"\n",
    ")\n",
    "\n",
    "# Create a cursor to interact with the database\n",
    "cursor = conn.cursor()\n",
    "\n",
    "# Fetch the image data from the database\n",
    "cursor.execute(\"SELECT id, name FROM api_coffeeleafimage LIMIT 10;\")\n",
    "rows = cursor.fetchall()\n",
    "\n",
    "# Close the connection to the database\n",
    "cursor.close()\n",
    "conn.close()\n"
   ]
  },
  {
   "cell_type": "code",
   "execution_count": 5,
   "id": "2f705bc9",
   "metadata": {},
   "outputs": [
    {
     "name": "stdout",
     "output_type": "stream",
     "text": [
      "There are 4 directories and 0 images in 'C:/Users/dell/Desktop/archive/ethiopian cofee leaf dataset/train aug'.\n",
      "There are 0 directories and 2700 images in 'C:/Users/dell/Desktop/archive/ethiopian cofee leaf dataset/train aug\\Cerscospora'.\n",
      "There are 0 directories and 2700 images in 'C:/Users/dell/Desktop/archive/ethiopian cofee leaf dataset/train aug\\Healthy'.\n",
      "There are 0 directories and 2700 images in 'C:/Users/dell/Desktop/archive/ethiopian cofee leaf dataset/train aug\\Leaf rust'.\n",
      "There are 0 directories and 2700 images in 'C:/Users/dell/Desktop/archive/ethiopian cofee leaf dataset/train aug\\Phoma'.\n"
     ]
    }
   ],
   "source": [
    "# Define the path to the training dataset\n",
    "train_directory =\"C:/Users/dell/Desktop/archive/ethiopian cofee leaf dataset/train aug\"\n",
    "\n",
    "for dirpath, dirnames, filenames in os.walk(\"C:/Users/dell/Desktop/archive/ethiopian cofee leaf dataset/train aug\"):\n",
    "    print(f\"There are {len (dirnames)} directories and {len (filenames)} images in '{dirpath}'.\")\n"
   ]
  },
  {
   "cell_type": "code",
   "execution_count": 6,
   "id": "5eb9ebe4",
   "metadata": {},
   "outputs": [
    {
     "name": "stdout",
     "output_type": "stream",
     "text": [
      "training images:\n",
      "Found 10800 images belonging to 4 classes.\n"
     ]
    }
   ],
   "source": [
    "from tensorflow.keras.preprocessing.image import ImageDataGenerator\n",
    "\n",
    "IMAGE_SHAPE = (224, 224)\n",
    "BATCH_SIZE = 32\n",
    "\n",
    "train_dir = \"C:/Users/dell/Desktop/archive/ethiopian cofee leaf dataset/train aug/\"\n",
    "\n",
    "train_datagen = ImageDataGenerator(rescale=1/255.)\n",
    "\n",
    "print(\"training images:\")\n",
    "train_data = train_datagen.flow_from_directory(train_dir,\n",
    "                                               target_size=IMAGE_SHAPE,\n",
    "                                               batch_size=BATCH_SIZE,\n",
    "                                               class_mode=\"categorical\")"
   ]
  },
  {
   "cell_type": "code",
   "execution_count": 9,
   "id": "379de168",
   "metadata": {},
   "outputs": [
    {
     "name": "stdout",
     "output_type": "stream",
     "text": [
      "Class names:\n",
      "['Cerscospora', 'Healthy', 'Leaf rust', 'Phoma']\n"
     ]
    }
   ],
   "source": [
    "# Print the class names\n",
    "print(\"Class names:\")\n",
    "class_names = list(train_data.class_indices.keys())\n",
    "print(class_names)\n"
   ]
  },
  {
   "cell_type": "code",
   "execution_count": null,
   "id": "8381fede",
   "metadata": {},
   "outputs": [],
   "source": []
  },
  {
   "cell_type": "code",
   "execution_count": 7,
   "id": "e8aaf581",
   "metadata": {},
   "outputs": [],
   "source": [
    "import datetime\n",
    "\n",
    "def create_tensorboard_callback(dir_name, experment_name):\n",
    "    log_dir = dir_name + \"/\" + experment_name + \"/\" + datetime.datetime.now().strftime(\"%y%m%d-%H%M%S\")\n",
    "    tensorboard_callback = tf.keras.callbacks.TensorBoard(log_dir=log_dir)\n",
    "    print(f\"Saving TensorBoard log files to: {log_dir}\")\n",
    "    return tensorboard_callback"
   ]
  }
 ],
 "metadata": {
  "kernelspec": {
   "display_name": "env",
   "language": "python",
   "name": "python3"
  },
  "language_info": {
   "codemirror_mode": {
    "name": "ipython",
    "version": 3
   },
   "file_extension": ".py",
   "mimetype": "text/x-python",
   "name": "python",
   "nbconvert_exporter": "python",
   "pygments_lexer": "ipython3",
   "version": "3.12.6"
  }
 },
 "nbformat": 4,
 "nbformat_minor": 5
}
